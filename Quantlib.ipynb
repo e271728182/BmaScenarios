{
 "cells": [
  {
   "cell_type": "code",
   "execution_count": 1,
   "metadata": {},
   "outputs": [],
   "source": [
    "from QuantLib import *\n",
    "import QuantLib as ql\n",
    "import pandas as pd\n",
    "import numpy as np\n",
    "from copy import deepcopy"
   ]
  },
  {
   "cell_type": "code",
   "execution_count": 2,
   "metadata": {},
   "outputs": [],
   "source": [
    "class BmaScenarios:\n",
    "    \n",
    "    def Scen1(self,Xspreads):\n",
    "        __name='Scen1'\n",
    "        for n in range(1,len(Xspreads)):\n",
    "        #+15bps per year for 10 years level thereafter\n",
    "            Xspreads[n].setValue(-0.0015*min(n,10)) \n",
    "        return Xspreads,__name\n",
    "    \n",
    "    def Scen2(self,Xspreads):\n",
    "        __name='Scen2'\n",
    "        for n in range(1,len(Xspreads)):\n",
    "        #+15bps per year for 10 years level thereafter\n",
    "            Xspreads[n].setValue(+0.0015*min(n,10)) \n",
    "        return Xspreads,__name\n",
    "    \n",
    "    def Scen3(self,Xspreads):\n",
    "        __name='Scen3'\n",
    "        for n in range(1,len(Xspreads)):\n",
    "        #+15bps per year for 10 years level thereafter\n",
    "            Xspreads[n].setValue(+0.0025*min(n,10)) \n",
    "        return Xspreads,__name\n",
    "    "
   ]
  },
  {
   "cell_type": "code",
   "execution_count": 3,
   "metadata": {},
   "outputs": [],
   "source": [
    "path=r'c:\\Quantlib\\bma_discount2019Q1.xlsx'\n",
    "todaysDate = ql.Date(30, 9, 2019)\n",
    "dfbma=pd.read_excel(path,sheet_name='test')\n",
    "dfbma['US']=dfbma['US']\n",
    "dfbma['US'].head()\n",
    "dfbma.insert(0, 'ID', range(0, len(dfbma)))\n",
    "dfbma['Date']=TARGET().advance(todaysDate,0,Years)\n",
    "\n",
    "\n",
    "def valuation_formula( y):\n",
    "    return ql.TARGET().advance(todaysDate,y,Years)\n",
    "\n",
    "dfbma['Date'] = dfbma.apply(lambda row: valuation_formula(row['ID']), axis=1)\n",
    "\n",
    "df_bmaScen=dfbma[['ID','Date','US']]\n",
    "df_bmaScen.head()\n",
    "\n",
    "\n",
    "def extractInfoFromCurve(valDate,originScenCurve,xspreads,colNames):\n",
    "    rates=[]\n",
    "    \n",
    "    __scenCurve = ql.SpreadedLinearZeroInterpolatedTermStructure(ql.YieldTermStructureHandle(originScenCurve),[ ql.QuoteHandle(q) for q in xspreads ],spotDates)\n",
    "    for date in originScenCurve.dates():\n",
    "        #nb years between valuation date and future date\n",
    "        yearPassed=ql.Thirty360().yearFraction(todaysDate, date)\n",
    "        #append to the list\n",
    "        rates.append(__scenCurve.zeroRate(yearPassed,ql.Compounded).rate())\n",
    "    #reutrns a dataframe of date & scenario curve    \n",
    "    return pd.DataFrame(list(zip(list(spotCurve.dates()), rates)),columns=colNames)\n"
   ]
  },
  {
   "cell_type": "code",
   "execution_count": 4,
   "metadata": {},
   "outputs": [],
   "source": [
    "\n",
    "ql.Settings.instance().evaluationDate = todaysDate\n",
    "#spotDates = [ql.Date(15, 1, 2015), ql.Date(15, 1, 2016), ql.Date(15, 1, 2017),ql.Date(15, 1, 2018)]\n",
    "spotDates=[TARGET().advance(todaysDate,n,Years) for n in range(0,100)]\n",
    "spotRates = dfbma['US'].tolist()[0:100]\n",
    "\n",
    "dayCount = ql.Thirty360()\n",
    "calendar = ql.UnitedStates()\n",
    "interpolation = ql.Linear()\n",
    "compounding = ql.Compounded\n",
    "compoundingFrequency = ql.Annual\n",
    "spotCurve = ql.ZeroCurve(spotDates, spotRates, dayCount, calendar, interpolation,compounding, compoundingFrequency)\n",
    "spotCurveHandle = ql.YieldTermStructureHandle(spotCurve)\n"
   ]
  },
  {
   "cell_type": "code",
   "execution_count": 5,
   "metadata": {},
   "outputs": [
    {
     "data": {
      "text/plain": [
       "0.02230223061704284"
      ]
     },
     "execution_count": 5,
     "metadata": {},
     "output_type": "execute_result"
    }
   ],
   "source": [
    "#implied forward curve\n",
    "impl=ql.ImpliedTermStructure(spotCurveHandle,TARGET().advance(todaysDate,1,Years))\n",
    "impl.zeroRate(1,ql.Compounded).rate()"
   ]
  },
  {
   "cell_type": "code",
   "execution_count": 6,
   "metadata": {},
   "outputs": [],
   "source": [
    "\n",
    "\n",
    "spreads = [ ql.SimpleQuote(0.0) for n in spotDates ] # null spreads to begin\n",
    "\n",
    "ScenarioCurve = ql.SpreadedLinearZeroInterpolatedTermStructure(ql.YieldTermStructureHandle(spotCurve),[ql.QuoteHandle(q) for q in spreads],spotDates)\n",
    "\n",
    "#scenario 1\n",
    "#create the scenario spread\n",
    "for n in range(1,len(spreads)):\n",
    "        spreads[n].setValue(-0.0015*min(n,10))\n",
    "\n",
    "#assign to the \n",
    "scenCurve = ql.SpreadedLinearZeroInterpolatedTermStructure(ql.YieldTermStructureHandle(spotCurve),[ ql.QuoteHandle(q) for q in spreads ],spotDates)\n",
    "\n",
    "dated=[]\n",
    "for d in spotCurve.dates():\n",
    "    z=ql.Thirty360().yearFraction(todaysDate, d)\n",
    "    dated.append(scenCurve.zeroRate(z,ql.Compounded).rate())\n",
    "\n",
    "#pd.DataFrame(list(zip(list(spotCurve.dates()), dated)),columns=[\"Maturities\",\"Curve\"],index=['']*len(rates))\n",
    "dfscen1=pd.DataFrame(list(zip(list(spotCurve.dates()), dated)),columns=[\"Date\",\"Scen1\"])\n",
    "df_bmaScen=df_bmaScen.merge(dfscen1,on=['Date'], suffixes=('','_lag'), how='left')\n",
    "\n",
    "\n",
    "\n",
    "\n"
   ]
  },
  {
   "cell_type": "code",
   "execution_count": 7,
   "metadata": {},
   "outputs": [
    {
     "data": {
      "text/html": [
       "<div>\n",
       "<style scoped>\n",
       "    .dataframe tbody tr th:only-of-type {\n",
       "        vertical-align: middle;\n",
       "    }\n",
       "\n",
       "    .dataframe tbody tr th {\n",
       "        vertical-align: top;\n",
       "    }\n",
       "\n",
       "    .dataframe thead th {\n",
       "        text-align: right;\n",
       "    }\n",
       "</style>\n",
       "<table border=\"1\" class=\"dataframe\">\n",
       "  <thead>\n",
       "    <tr style=\"text-align: right;\">\n",
       "      <th></th>\n",
       "      <th>Date</th>\n",
       "      <th>Scen1</th>\n",
       "    </tr>\n",
       "  </thead>\n",
       "  <tbody>\n",
       "    <tr>\n",
       "      <th>0</th>\n",
       "      <td>September 30th, 2019</td>\n",
       "      <td>0.000002</td>\n",
       "    </tr>\n",
       "    <tr>\n",
       "      <th>1</th>\n",
       "      <td>September 30th, 2020</td>\n",
       "      <td>0.023413</td>\n",
       "    </tr>\n",
       "    <tr>\n",
       "      <th>2</th>\n",
       "      <td>September 30th, 2021</td>\n",
       "      <td>0.020559</td>\n",
       "    </tr>\n",
       "    <tr>\n",
       "      <th>3</th>\n",
       "      <td>September 30th, 2022</td>\n",
       "      <td>0.018297</td>\n",
       "    </tr>\n",
       "    <tr>\n",
       "      <th>4</th>\n",
       "      <td>October 2nd, 2023</td>\n",
       "      <td>0.016574</td>\n",
       "    </tr>\n",
       "  </tbody>\n",
       "</table>\n",
       "</div>"
      ],
      "text/plain": [
       "                   Date     Scen1\n",
       "0  September 30th, 2019  0.000002\n",
       "1  September 30th, 2020  0.023413\n",
       "2  September 30th, 2021  0.020559\n",
       "3  September 30th, 2022  0.018297\n",
       "4     October 2nd, 2023  0.016574"
      ]
     },
     "execution_count": 7,
     "metadata": {},
     "output_type": "execute_result"
    }
   ],
   "source": [
    "df_bmaScen.head()\n",
    "dfscen1.head()"
   ]
  },
  {
   "cell_type": "code",
   "execution_count": 8,
   "metadata": {},
   "outputs": [],
   "source": [
    "#scenario 2\n",
    "#for n in range(1,len(spreads)):\n",
    "    #+15bps per year for 10 years level thereafter\n",
    "#        spreads[n].setValue(+0.0015*min(n,10))\n",
    "\n",
    "mybma=BmaScenarios()\n",
    "\n",
    "spreads,colname=mybma.Scen2(spreads)\n",
    "df2=extractInfoFromCurve(todaysDate,spotCurve,spreads,[\"Date\",colname])\n",
    "df_bmaScen=df_bmaScen.merge(df2,on=['Date'], suffixes=('','_lag'), how='left')\n",
    "\n"
   ]
  },
  {
   "cell_type": "code",
   "execution_count": 9,
   "metadata": {
    "scrolled": true
   },
   "outputs": [
    {
     "data": {
      "text/html": [
       "<div>\n",
       "<style scoped>\n",
       "    .dataframe tbody tr th:only-of-type {\n",
       "        vertical-align: middle;\n",
       "    }\n",
       "\n",
       "    .dataframe tbody tr th {\n",
       "        vertical-align: top;\n",
       "    }\n",
       "\n",
       "    .dataframe thead th {\n",
       "        text-align: right;\n",
       "    }\n",
       "</style>\n",
       "<table border=\"1\" class=\"dataframe\">\n",
       "  <thead>\n",
       "    <tr style=\"text-align: right;\">\n",
       "      <th></th>\n",
       "      <th>ID</th>\n",
       "      <th>Date</th>\n",
       "      <th>US</th>\n",
       "      <th>Scen1</th>\n",
       "      <th>Scen2</th>\n",
       "      <th>delta</th>\n",
       "    </tr>\n",
       "  </thead>\n",
       "  <tbody>\n",
       "    <tr>\n",
       "      <th>0</th>\n",
       "      <td>0</td>\n",
       "      <td>September 30th, 2019</td>\n",
       "      <td>0.000000</td>\n",
       "      <td>0.000002</td>\n",
       "      <td>0.000003</td>\n",
       "      <td>0.000003</td>\n",
       "    </tr>\n",
       "    <tr>\n",
       "      <th>1</th>\n",
       "      <td>1</td>\n",
       "      <td>September 30th, 2020</td>\n",
       "      <td>0.024949</td>\n",
       "      <td>0.023413</td>\n",
       "      <td>0.026488</td>\n",
       "      <td>0.001539</td>\n",
       "    </tr>\n",
       "    <tr>\n",
       "      <th>2</th>\n",
       "      <td>2</td>\n",
       "      <td>September 30th, 2021</td>\n",
       "      <td>0.023625</td>\n",
       "      <td>0.020559</td>\n",
       "      <td>0.026700</td>\n",
       "      <td>0.003075</td>\n",
       "    </tr>\n",
       "    <tr>\n",
       "      <th>3</th>\n",
       "      <td>3</td>\n",
       "      <td>September 30th, 2022</td>\n",
       "      <td>0.022890</td>\n",
       "      <td>0.018297</td>\n",
       "      <td>0.027503</td>\n",
       "      <td>0.004613</td>\n",
       "    </tr>\n",
       "    <tr>\n",
       "      <th>4</th>\n",
       "      <td>4</td>\n",
       "      <td>October 2nd, 2023</td>\n",
       "      <td>0.022692</td>\n",
       "      <td>0.016574</td>\n",
       "      <td>0.028847</td>\n",
       "      <td>0.006155</td>\n",
       "    </tr>\n",
       "  </tbody>\n",
       "</table>\n",
       "</div>"
      ],
      "text/plain": [
       "   ID                  Date        US     Scen1     Scen2     delta\n",
       "0   0  September 30th, 2019  0.000000  0.000002  0.000003  0.000003\n",
       "1   1  September 30th, 2020  0.024949  0.023413  0.026488  0.001539\n",
       "2   2  September 30th, 2021  0.023625  0.020559  0.026700  0.003075\n",
       "3   3  September 30th, 2022  0.022890  0.018297  0.027503  0.004613\n",
       "4   4     October 2nd, 2023  0.022692  0.016574  0.028847  0.006155"
      ]
     },
     "execution_count": 9,
     "metadata": {},
     "output_type": "execute_result"
    }
   ],
   "source": [
    "\n",
    "df_bmaScen['delta']=df_bmaScen['Scen2']-df_bmaScen['US']\n",
    "df_bmaScen.head(5)"
   ]
  },
  {
   "cell_type": "code",
   "execution_count": 10,
   "metadata": {},
   "outputs": [
    {
     "name": "stdout",
     "output_type": "stream",
     "text": [
      "0.029109834661118272\n",
      "0.02142038239144517\n",
      "0.02186121137681285\n",
      "0.028010808989128666\n"
     ]
    }
   ],
   "source": [
    "#implied forward curve\n",
    "scenCurve = ql.SpreadedLinearZeroInterpolatedTermStructure(ql.YieldTermStructureHandle(spotCurve),[ ql.QuoteHandle(q) for q in spreads ],spotDates)\n",
    "#impl=ql.ImpliedTermStructure(spotCurveHandle,TARGET().advance(todaysDate,1,Years))\n",
    "#impl.zeroRate(1,ql.Compounded).rate()\n",
    "ss=ql.YieldTermStructureHandle(scenCurve)\n",
    "\n",
    "todaysDate2 = ql.Date(30, 9, 2020)\n",
    "impl2=ql.ImpliedTermStructure(ss,TARGET().advance(todaysDate2,1,Years))\n",
    "impl=ql.ImpliedTermStructure(spotCurveHandle,TARGET().advance(todaysDate2,1,Years))\n",
    "\n",
    "print(impl2.zeroRate(1,ql.Compounded).rate())\n",
    "print(impl.zeroRate(1,ql.Compounded).rate())\n",
    "\n",
    "print(spotCurveHandle.forwardRate(todaysDate2,TARGET().advance(todaysDate2,2,Years),ql.Thirty360(),ql.Compounded).rate())\n",
    "print(ss.forwardRate(todaysDate2,TARGET().advance(todaysDate2,2,Years),ql.Thirty360(),ql.Compounded).rate())\n",
    "\n"
   ]
  },
  {
   "cell_type": "code",
   "execution_count": 20,
   "metadata": {},
   "outputs": [
    {
     "data": {
      "text/plain": [
       "974.1957293965547"
      ]
     },
     "execution_count": 20,
     "metadata": {},
     "output_type": "execute_result"
    }
   ],
   "source": [
    "cf=ql.SimpleCashFlow(1000,ql.Date(30, 9, 2020))\n",
    "\n",
    "cf.amount()*ss.discount(cf.date())\n",
    "#0.03059001480662915-0.02288950271205059\n"
   ]
  },
  {
   "cell_type": "code",
   "execution_count": null,
   "metadata": {},
   "outputs": [],
   "source": []
  },
  {
   "cell_type": "code",
   "execution_count": null,
   "metadata": {},
   "outputs": [],
   "source": []
  },
  {
   "cell_type": "code",
   "execution_count": 74,
   "metadata": {},
   "outputs": [
    {
     "data": {
      "text/plain": [
       "0.04009803921568622"
      ]
     },
     "execution_count": 74,
     "metadata": {},
     "output_type": "execute_result"
    }
   ],
   "source": [
    "spotCurveHandle.zeroRate(1,ql.Compounded).rate()\n",
    "spotCurveHandle.forwardRate(ql.Date(15, 1, 2016),ql.Date(15, 1, 2017),ql.Thirty360(),ql.Compounded).rate()\n"
   ]
  },
  {
   "cell_type": "code",
   "execution_count": 34,
   "metadata": {},
   "outputs": [
    {
     "data": {
      "text/plain": [
       "0.8889963586709149"
      ]
     },
     "execution_count": 34,
     "metadata": {},
     "output_type": "execute_result"
    }
   ],
   "source": [
    "#loop through curve\n",
    "xDates = [ql.Date(15, 1, 2015), ql.Date(15, 1, 2016), ql.Date(15, 1, 2017)]\n",
    "fRates=[spotCurveHandle.forwardRate(d,TARGET().advance(d,1,Years),ql.Thirty360(),ql.Compounded).rate() for d in xDates ]\n",
    "set(zip(xDates,fRates))\n",
    "spotCurveHandle.discount(ql.Date(15, 1, 2018))"
   ]
  },
  {
   "cell_type": "code",
   "execution_count": 76,
   "metadata": {},
   "outputs": [
    {
     "data": {
      "text/plain": [
       "0.03931497718690904"
      ]
     },
     "execution_count": 76,
     "metadata": {},
     "output_type": "execute_result"
    }
   ],
   "source": [
    "future=todaysDate+ql.Period(1,ql.Years)\n",
    "implied=ql.ImpliedTermStructure(spotCurveHandle,future)\n",
    "implied.zeroRate(1,ql.Continuous).rate()"
   ]
  },
  {
   "cell_type": "code",
   "execution_count": null,
   "metadata": {},
   "outputs": [],
   "source": []
  },
  {
   "cell_type": "code",
   "execution_count": 5,
   "metadata": {},
   "outputs": [
    {
     "data": {
      "text/html": [
       "<div>\n",
       "<style scoped>\n",
       "    .dataframe tbody tr th:only-of-type {\n",
       "        vertical-align: middle;\n",
       "    }\n",
       "\n",
       "    .dataframe tbody tr th {\n",
       "        vertical-align: top;\n",
       "    }\n",
       "\n",
       "    .dataframe thead th {\n",
       "        text-align: right;\n",
       "    }\n",
       "</style>\n",
       "<table border=\"1\" class=\"dataframe\">\n",
       "  <thead>\n",
       "    <tr style=\"text-align: right;\">\n",
       "      <th></th>\n",
       "      <th>date</th>\n",
       "    </tr>\n",
       "  </thead>\n",
       "  <tbody>\n",
       "    <tr>\n",
       "      <th>0</th>\n",
       "      <td>January 2nd, 2015</td>\n",
       "    </tr>\n",
       "    <tr>\n",
       "      <th>1</th>\n",
       "      <td>January 4th, 2016</td>\n",
       "    </tr>\n",
       "    <tr>\n",
       "      <th>2</th>\n",
       "      <td>January 3rd, 2017</td>\n",
       "    </tr>\n",
       "    <tr>\n",
       "      <th>3</th>\n",
       "      <td>January 2nd, 2018</td>\n",
       "    </tr>\n",
       "    <tr>\n",
       "      <th>4</th>\n",
       "      <td>January 2nd, 2019</td>\n",
       "    </tr>\n",
       "    <tr>\n",
       "      <th>5</th>\n",
       "      <td>January 2nd, 2020</td>\n",
       "    </tr>\n",
       "    <tr>\n",
       "      <th>6</th>\n",
       "      <td>January 4th, 2021</td>\n",
       "    </tr>\n",
       "    <tr>\n",
       "      <th>7</th>\n",
       "      <td>January 3rd, 2022</td>\n",
       "    </tr>\n",
       "    <tr>\n",
       "      <th>8</th>\n",
       "      <td>January 3rd, 2023</td>\n",
       "    </tr>\n",
       "    <tr>\n",
       "      <th>9</th>\n",
       "      <td>January 2nd, 2024</td>\n",
       "    </tr>\n",
       "    <tr>\n",
       "      <th>10</th>\n",
       "      <td>January 2nd, 2025</td>\n",
       "    </tr>\n",
       "  </tbody>\n",
       "</table>\n",
       "</div>"
      ],
      "text/plain": [
       "                 date\n",
       "0   January 2nd, 2015\n",
       "1   January 4th, 2016\n",
       "2   January 3rd, 2017\n",
       "3   January 2nd, 2018\n",
       "4   January 2nd, 2019\n",
       "5   January 2nd, 2020\n",
       "6   January 4th, 2021\n",
       "7   January 3rd, 2022\n",
       "8   January 3rd, 2023\n",
       "9   January 2nd, 2024\n",
       "10  January 2nd, 2025"
      ]
     },
     "execution_count": 5,
     "metadata": {},
     "output_type": "execute_result"
    }
   ],
   "source": [
    "#Schedule generation\n",
    "effective_date = ql.Date(1, 1, 2015)\n",
    "termination_date = ql.Date(1, 1, 2025)\n",
    "tenor = ql.Period(ql.Annual)\n",
    "calendar = ql.UnitedStates()\n",
    "business_convention = ql.Following\n",
    "termination_business_convention = ql.Following\n",
    "date_generation = ql.DateGeneration.Forward\n",
    "end_of_month = True\n",
    "schedule = ql.Schedule(effective_date,\n",
    "                             termination_date,\n",
    "                             tenor,\n",
    "                             calendar,\n",
    "                             business_convention,termination_business_convention,\n",
    "                             date_generation,\n",
    "                             end_of_month)\n",
    "pd.DataFrame({'date': list(schedule)})"
   ]
  },
  {
   "cell_type": "code",
   "execution_count": 9,
   "metadata": {},
   "outputs": [],
   "source": [
    "\n",
    "from QuantLib import *\n",
    "helpers = [ SwapRateHelper(QuoteHandle(SimpleQuote(rate/100.0)),\n",
    "Period(*tenor), TARGET(),\n",
    "Annual, Unadjusted,\n",
    "Thirty360(),\n",
    "Euribor6M())\n",
    "for tenor, rate in [((2,Years), 0.201),\n",
    "((3,Years), 0.258),\n",
    "((5,Years), 0.464),\n",
    "((10,Years), 1.151),\n",
    "((15,Years), 1.588)] ]"
   ]
  },
  {
   "cell_type": "code",
   "execution_count": 10,
   "metadata": {},
   "outputs": [],
   "source": [
    "curve1 = PiecewiseFlatForward(0, TARGET(), helpers, Actual360())"
   ]
  },
  {
   "cell_type": "code",
   "execution_count": 13,
   "metadata": {},
   "outputs": [
    {
     "data": {
      "text/plain": [
       "(0.001977769487929328,\n",
       " 0.001977769487929328,\n",
       " 0.0036675383554942956,\n",
       " 0.007629248495439154,\n",
       " 0.0184154249894188,\n",
       " 0.025313247068010393)"
      ]
     },
     "execution_count": 13,
     "metadata": {},
     "output_type": "execute_result"
    }
   ],
   "source": [
    "dates, rates = zip(*curve1.nodes())\n"
   ]
  },
  {
   "cell_type": "code",
   "execution_count": 14,
   "metadata": {},
   "outputs": [],
   "source": [
    "curve2 = ForwardCurve(dates, rates, Actual360())"
   ]
  },
  {
   "cell_type": "code",
   "execution_count": null,
   "metadata": {},
   "outputs": [],
   "source": []
  }
 ],
 "metadata": {
  "kernelspec": {
   "display_name": "Python 3",
   "language": "python",
   "name": "python3"
  },
  "language_info": {
   "codemirror_mode": {
    "name": "ipython",
    "version": 3
   },
   "file_extension": ".py",
   "mimetype": "text/x-python",
   "name": "python",
   "nbconvert_exporter": "python",
   "pygments_lexer": "ipython3",
   "version": "3.7.1"
  }
 },
 "nbformat": 4,
 "nbformat_minor": 2
}
